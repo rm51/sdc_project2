{
 "cells": [
  {
   "cell_type": "markdown",
   "metadata": {},
   "source": [
    "# LeNet Lab Solution\n",
    "![LeNet Architecture](lenet.png)\n",
    "Source: Yan LeCun"
   ]
  },
  {
   "cell_type": "markdown",
   "metadata": {},
   "source": [
    "## Load Data\n",
    "\n",
    "Load the MNIST data, which comes pre-loaded with TensorFlow.\n",
    "\n",
    "You do not need to modify this section."
   ]
  },
  {
   "cell_type": "code",
   "execution_count": 1,
   "metadata": {
    "collapsed": true
   },
   "outputs": [],
   "source": [
    "# Load pickled data\n",
    "import pickle\n",
    "\n",
    "# TODO: Fill this in based on where you saved the training and testing data\n",
    "\n",
    "training_file = 'train.p'\n",
    "validation_file = 'validation.p'\n",
    "testing_file = 'test.p'\n",
    "\n",
    "with open(training_file, mode='rb') as f:\n",
    "    train = pickle.load(f)\n",
    "with open(training_file, mode='rb') as f:\n",
    "    validation = pickle.load(f)\n",
    "with open(testing_file, mode='rb') as f:\n",
    "    test = pickle.load(f)\n",
    "    \n",
    "X_train, y_train = train['features'], train['labels']\n",
    "X_validation, y_validation = validation['features'], validation['labels']\n",
    "X_test, y_test = test['features'], test['labels']"
   ]
  },
  {
   "cell_type": "markdown",
   "metadata": {},
   "source": [
    "The MNIST data that TensorFlow pre-loads comes as 28x28x1 images.\n",
    "\n",
    "However, the LeNet architecture only accepts 32x32xC images, where C is the number of color channels.\n",
    "\n",
    "In order to reformat the MNIST data into a shape that LeNet will accept, we pad the data with two rows of zeros on the top and bottom, and two columns of zeros on the left and right (28+2+2 = 32).\n",
    "\n",
    "You do not need to modify this section."
   ]
  },
  {
   "cell_type": "code",
   "execution_count": 2,
   "metadata": {},
   "outputs": [
    {
     "name": "stdout",
     "output_type": "stream",
     "text": [
      "Updated Image Shape (32, 32, 3)\n"
     ]
    }
   ],
   "source": [
    "from sklearn.model_selection import train_test_split\n",
    "\n",
    "X_train, X_validation, y_train, y_validation = train_test_split(X_train, y_train, test_size=0.2, random_state=0)\n",
    "\n",
    "print (\"Updated Image Shape {}\".format(X_train[0].shape))"
   ]
  },
  {
   "cell_type": "markdown",
   "metadata": {},
   "source": [
    "## Visualize Data\n",
    "\n",
    "View a sample from the dataset.\n",
    "\n",
    "You do not need to modify this section."
   ]
  },
  {
   "cell_type": "code",
   "execution_count": 3,
   "metadata": {},
   "outputs": [
    {
     "name": "stdout",
     "output_type": "stream",
     "text": [
      "14\n"
     ]
    },
    {
     "data": {
      "image/png": "[encoded data removed]",
      "text/plain": [
       "<matplotlib.figure.Figure at 0x7f8fc62b2438>"
      ]
     },
     "metadata": {},
     "output_type": "display_data"
    }
   ],
   "source": [
    "import random\n",
    "import numpy as np\n",
    "import matplotlib.pyplot as plt\n",
    "%matplotlib inline\n",
    "\n",
    "index = random.randint(0, len(X_train))\n",
    "image = X_train[index].squeeze()\n",
    "\n",
    "plt.figure(figsize=(1,1))\n",
    "plt.imshow(image)\n",
    "print(y_train[index])"
   ]
  },
  {
   "cell_type": "markdown",
   "metadata": {},
   "source": [
    "## Preprocess Data\n",
    "\n",
    "Shuffle the training data.\n",
    "\n",
    "You do not need to modify this section."
   ]
  },
  {
   "cell_type": "code",
   "execution_count": 4,
   "metadata": {
    "collapsed": true
   },
   "outputs": [],
   "source": [
    "from sklearn.utils import shuffle\n",
    "\n",
    "X_train, y_train = shuffle(X_train, y_train)"
   ]
  },
  {
   "cell_type": "markdown",
   "metadata": {},
   "source": [
    "## Setup TensorFlow\n",
    "The `EPOCH` and `BATCH_SIZE` values affect the training speed and model accuracy.\n",
    "\n",
    "You do not need to modify this section."
   ]
  },
  {
   "cell_type": "code",
   "execution_count": 5,
   "metadata": {
    "collapsed": true
   },
   "outputs": [],
   "source": [
    "import tensorflow as tf\n",
    "\n",
    "EPOCHS = 30\n",
    "BATCH_SIZE = 128"
   ]
  },
  {
   "cell_type": "markdown",
   "metadata": {},
   "source": [
    "## SOLUTION: Implement LeNet-5\n",
    "Implement the [LeNet-5](http://yann.lecun.com/exdb/lenet/) neural network architecture.\n",
    "\n",
    "This is the only cell you need to edit.\n",
    "### Input\n",
    "The LeNet architecture accepts a 32x32xC image as input, where C is the number of color channels. Since MNIST images are grayscale, C is 1 in this case.\n",
    "\n",
    "### Architecture\n",
    "**Layer 1: Convolutional.** The output shape should be 28x28x6.\n",
    "\n",
    "**Activation.** Your choice of activation function.\n",
    "\n",
    "**Pooling.** The output shape should be 14x14x6.\n",
    "\n",
    "**Layer 2: Convolutional.** The output shape should be 10x10x16.\n",
    "\n",
    "**Activation.** Your choice of activation function.\n",
    "\n",
    "**Pooling.** The output shape should be 5x5x16.\n",
    "\n",
    "**Flatten.** Flatten the output shape of the final pooling layer such that it's 1D instead of 3D. The easiest way to do is by using `tf.contrib.layers.flatten`, which is already imported for you.\n",
    "\n",
    "**Layer 3: Fully Connected.** This should have 120 outputs.\n",
    "\n",
    "**Activation.** Your choice of activation function.\n",
    "\n",
    "**Layer 4: Fully Connected.** This should have 84 outputs.\n",
    "\n",
    "**Activation.** Your choice of activation function.\n",
    "\n",
    "**Layer 5: Fully Connected (Logits).** This should have 10 outputs.\n",
    "\n",
    "### Output\n",
    "Return the result of the 2nd fully connected layer."
   ]
  },
  {
   "cell_type": "code",
   "execution_count": 6,
   "metadata": {
    "collapsed": true
   },
   "outputs": [],
   "source": [
    "#keep_prob = tf.placeholder(tf.float32)"
   ]
  },
  {
   "cell_type": "code",
   "execution_count": 7,
   "metadata": {
    "collapsed": true
   },
   "outputs": [],
   "source": [
    "from tensorflow.contrib.layers import flatten\n",
    "\n",
    "def LeNet(x):    \n",
    "    # Arguments used for tf.truncated_normal, randomly defines variables for the weights and biases for each layer\n",
    "    mu = 0\n",
    "    sigma = 0.1\n",
    "    \n",
    "    \n",
    "    \n",
    "    # SOLUTION: Layer 1: Convolutional. Input = 32x32x1. Output = 28x28x6.\n",
    "    conv1_W = tf.Variable(tf.truncated_normal(shape=(5, 5, 3, 6), mean = mu, stddev = sigma))\n",
    "    conv1_b = tf.Variable(tf.zeros(6))\n",
    "    conv1   = tf.nn.conv2d(x, conv1_W, strides=[1, 1, 1, 1], padding='VALID') + conv1_b\n",
    "\n",
    "    # SOLUTION: Activation.\n",
    "    conv1 = tf.nn.relu(conv1)\n",
    "\n",
    "    # SOLUTION: Pooling. Input = 28x28x6. Output = 14x14x6.\n",
    "    conv1 = tf.nn.max_pool(conv1, ksize=[1, 2, 2, 1], strides=[1, 2, 2, 1], padding='VALID')\n",
    "\n",
    "    # SOLUTION: Layer 2: Convolutional. Output = 10x10x16.\n",
    "    conv2_W = tf.Variable(tf.truncated_normal(shape=(5, 5, 6, 16), mean = mu, stddev = sigma))\n",
    "    conv2_b = tf.Variable(tf.zeros(16))\n",
    "    conv2   = tf.nn.conv2d(conv1, conv2_W, strides=[1, 1, 1, 1], padding='VALID') + conv2_b\n",
    "    \n",
    "    # SOLUTION: Activation.\n",
    "    conv2 = tf.nn.relu(conv2)\n",
    "\n",
    "    # SOLUTION: Pooling. Input = 10x10x16. Output = 5x5x16.\n",
    "    conv2 = tf.nn.max_pool(conv2, ksize=[1, 2, 2, 1], strides=[1, 2, 2, 1], padding='VALID')\n",
    "\n",
    "    # SOLUTION: Flatten. Input = 5x5x16. Output = 400.\n",
    "    fc0   = flatten(conv2)\n",
    "    \n",
    "    # SOLUTION: Layer 3: Fully Connected. Input = 400. Output = 120.\n",
    "    fc1_W = tf.Variable(tf.truncated_normal(shape=(400, 120), mean = mu, stddev = sigma))\n",
    "    fc1_b = tf.Variable(tf.zeros(120))\n",
    "    fc1   = tf.matmul(fc0, fc1_W) + fc1_b\n",
    "    \n",
    "    # SOLUTION: Activation.\n",
    "    fc1    = tf.nn.relu(fc1)\n",
    "\n",
    "    # SOLUTION: Layer 4: Fully Connected. Input = 120. Output = 84.\n",
    "    fc2_W  = tf.Variable(tf.truncated_normal(shape=(120, 84), mean = mu, stddev = sigma))\n",
    "    fc2_b  = tf.Variable(tf.zeros(84))\n",
    "    fc2    = tf.matmul(fc1, fc2_W) + fc2_b\n",
    "    \n",
    "    # SOLUTION: Activation.\n",
    "    \n",
    "    fc2    = tf.nn.relu(fc2)\n",
    "    fc2    = tf.nn.dropout(fc2, keep_prob)\n",
    "\n",
    "    # SOLUTION: Layer 5: Fully Connected. Input = 84. Output = 43.\n",
    "    fc3_W  = tf.Variable(tf.truncated_normal(shape=(84, 43), mean = mu, stddev = sigma))\n",
    "    fc3_b  = tf.Variable(tf.zeros(43))\n",
    "    logits = tf.matmul(fc2, fc3_W) + fc3_b\n",
    "    \n",
    "    return logits"
   ]
  },
  {
   "cell_type": "markdown",
   "metadata": {},
   "source": [
    "## Features and Labels\n",
    "Train LeNet to classify [MNIST](http://yann.lecun.com/exdb/mnist/) data.\n",
    "\n",
    "`x` is a placeholder for a batch of input images.\n",
    "`y` is a placeholder for a batch of output labels.\n",
    "\n",
    "You do not need to modify this section."
   ]
  },
  {
   "cell_type": "code",
   "execution_count": 8,
   "metadata": {
    "collapsed": true
   },
   "outputs": [],
   "source": [
    "x = tf.placeholder(tf.float32, (None, 32, 32, 3))\n",
    "y = tf.placeholder(tf.int32, (None))\n",
    "one_hot_y = tf.one_hot(y, 43)\n",
    "keep_prob = tf.placeholder(tf.float32)"
   ]
  },
  {
   "cell_type": "markdown",
   "metadata": {},
   "source": [
    "## Training Pipeline\n",
    "Create a training pipeline that uses the model to classify MNIST data.\n",
    "\n",
    "You do not need to modify this section."
   ]
  },
  {
   "cell_type": "code",
   "execution_count": 9,
   "metadata": {},
   "outputs": [],
   "source": [
    "rate = 0.001\n",
    "\n",
    "logits = LeNet(x)\n",
    "cross_entropy = tf.nn.softmax_cross_entropy_with_logits(labels=one_hot_y, logits=logits)\n",
    "loss_operation = tf.reduce_mean(cross_entropy)\n",
    "optimizer = tf.train.AdamOptimizer(learning_rate = rate)\n",
    "training_operation = optimizer.minimize(loss_operation)"
   ]
  },
  {
   "cell_type": "markdown",
   "metadata": {},
   "source": [
    "## Model Evaluation\n",
    "Evaluate how well the loss and accuracy of the model for a given dataset.\n",
    "\n",
    "You do not need to modify this section."
   ]
  },
  {
   "cell_type": "code",
   "execution_count": 10,
   "metadata": {
    "collapsed": true
   },
   "outputs": [],
   "source": [
    "correct_prediction = tf.equal(tf.argmax(logits, 1), tf.argmax(one_hot_y, 1))\n",
    "accuracy_operation = tf.reduce_mean(tf.cast(correct_prediction, tf.float32))\n",
    "saver = tf.train.Saver()\n",
    "\n",
    "def evaluate(X_data, y_data):\n",
    "    num_examples = len(X_data)\n",
    "    total_accuracy = 0\n",
    "    sess = tf.get_default_session()\n",
    "    for offset in range(0, num_examples, BATCH_SIZE):\n",
    "        batch_x, batch_y = X_data[offset:offset+BATCH_SIZE], y_data[offset:offset+BATCH_SIZE]\n",
    "        accuracy = sess.run(accuracy_operation, feed_dict={x: batch_x, y: batch_y, keep_prob: 1.})\n",
    "        total_accuracy += (accuracy * len(batch_x))\n",
    "    return total_accuracy / num_examples"
   ]
  },
  {
   "cell_type": "markdown",
   "metadata": {},
   "source": [
    "## Train the Model\n",
    "Run the training data through the training pipeline to train the model.\n",
    "\n",
    "Before each epoch, shuffle the training set.\n",
    "\n",
    "After each epoch, measure the loss and accuracy of the validation set.\n",
    "\n",
    "Save the model after training.\n",
    "\n",
    "You do not need to modify this section."
   ]
  },
  {
   "cell_type": "code",
   "execution_count": 11,
   "metadata": {},
   "outputs": [
    {
     "name": "stdout",
     "output_type": "stream",
     "text": [
      "Training...\n",
      "\n",
      "EPOCH 1 ...\n",
      "Validation Accuracy = 0.421\n",
      "Training Accuracy = 0.424\n",
      "\n",
      "EPOCH 2 ...\n",
      "Validation Accuracy = 0.652\n",
      "Training Accuracy = 0.669\n",
      "\n",
      "EPOCH 3 ...\n",
      "Validation Accuracy = 0.780\n",
      "Training Accuracy = 0.795\n",
      "\n",
      "EPOCH 4 ...\n",
      "Validation Accuracy = 0.851\n",
      "Training Accuracy = 0.866\n",
      "\n",
      "EPOCH 5 ...\n",
      "Validation Accuracy = 0.881\n",
      "Training Accuracy = 0.899\n",
      "\n",
      "EPOCH 6 ...\n",
      "Validation Accuracy = 0.912\n",
      "Training Accuracy = 0.932\n",
      "\n",
      "EPOCH 7 ...\n",
      "Validation Accuracy = 0.932\n",
      "Training Accuracy = 0.952\n",
      "\n",
      "EPOCH 8 ...\n",
      "Validation Accuracy = 0.943\n",
      "Training Accuracy = 0.960\n",
      "\n",
      "EPOCH 9 ...\n",
      "Validation Accuracy = 0.942\n",
      "Training Accuracy = 0.959\n",
      "\n",
      "EPOCH 10 ...\n",
      "Validation Accuracy = 0.951\n",
      "Training Accuracy = 0.965\n",
      "\n",
      "EPOCH 11 ...\n",
      "Validation Accuracy = 0.956\n",
      "Training Accuracy = 0.971\n",
      "\n",
      "EPOCH 12 ...\n",
      "Validation Accuracy = 0.963\n",
      "Training Accuracy = 0.980\n",
      "\n",
      "EPOCH 13 ...\n",
      "Validation Accuracy = 0.965\n",
      "Training Accuracy = 0.981\n",
      "\n",
      "EPOCH 14 ...\n",
      "Validation Accuracy = 0.969\n",
      "Training Accuracy = 0.984\n",
      "\n",
      "EPOCH 15 ...\n",
      "Validation Accuracy = 0.973\n",
      "Training Accuracy = 0.990\n",
      "\n",
      "EPOCH 16 ...\n",
      "Validation Accuracy = 0.972\n",
      "Training Accuracy = 0.987\n",
      "\n",
      "EPOCH 17 ...\n",
      "Validation Accuracy = 0.974\n",
      "Training Accuracy = 0.989\n",
      "\n",
      "EPOCH 18 ...\n",
      "Validation Accuracy = 0.975\n",
      "Training Accuracy = 0.991\n",
      "\n",
      "EPOCH 19 ...\n",
      "Validation Accuracy = 0.975\n",
      "Training Accuracy = 0.987\n",
      "\n",
      "EPOCH 20 ...\n",
      "Validation Accuracy = 0.976\n",
      "Training Accuracy = 0.992\n",
      "\n",
      "EPOCH 21 ...\n",
      "Validation Accuracy = 0.976\n",
      "Training Accuracy = 0.991\n",
      "\n",
      "EPOCH 22 ...\n",
      "Validation Accuracy = 0.977\n",
      "Training Accuracy = 0.992\n",
      "\n",
      "EPOCH 23 ...\n",
      "Validation Accuracy = 0.975\n",
      "Training Accuracy = 0.992\n",
      "\n",
      "EPOCH 24 ...\n",
      "Validation Accuracy = 0.979\n",
      "Training Accuracy = 0.994\n",
      "\n",
      "EPOCH 25 ...\n",
      "Validation Accuracy = 0.977\n",
      "Training Accuracy = 0.994\n",
      "\n",
      "EPOCH 26 ...\n",
      "Validation Accuracy = 0.973\n",
      "Training Accuracy = 0.992\n",
      "\n",
      "EPOCH 27 ...\n",
      "Validation Accuracy = 0.972\n",
      "Training Accuracy = 0.992\n",
      "\n",
      "EPOCH 28 ...\n",
      "Validation Accuracy = 0.976\n",
      "Training Accuracy = 0.992\n",
      "\n",
      "EPOCH 29 ...\n",
      "Validation Accuracy = 0.982\n",
      "Training Accuracy = 0.997\n",
      "\n",
      "EPOCH 30 ...\n",
      "Validation Accuracy = 0.980\n",
      "Training Accuracy = 0.995\n",
      "\n",
      "Model saved\n"
     ]
    }
   ],
   "source": [
    "# Need to add training accuracy, training loss and validation accuracy\n",
    "with tf.Session() as sess:\n",
    "    sess.run(tf.global_variables_initializer())\n",
    "    num_examples = len(X_train)\n",
    "    \n",
    "    print(\"Training...\")\n",
    "    print()\n",
    "    for i in range(EPOCHS):\n",
    "        X_train, y_train = shuffle(X_train, y_train)\n",
    "        for offset in range(0, num_examples, BATCH_SIZE):\n",
    "            end = offset + BATCH_SIZE\n",
    "            batch_x, batch_y = X_train[offset:end], y_train[offset:end]\n",
    "            sess.run(training_operation, feed_dict={x: batch_x, y: batch_y, keep_prob: 0.5})\n",
    "            \n",
    "        validation_accuracy = evaluate(X_validation, y_validation)\n",
    "        training_accuracy = evaluate(X_train, y_train)\n",
    "        print(\"EPOCH {} ...\".format(i+1))\n",
    "        print(\"Validation Accuracy = {:.3f}\".format(validation_accuracy))\n",
    "        print(\"Training Accuracy = {:.3f}\".format(training_accuracy))\n",
    "        print()\n",
    "        \n",
    "    saver.save(sess, './lenet')\n",
    "    print(\"Model saved\")"
   ]
  },
  {
   "cell_type": "markdown",
   "metadata": {},
   "source": [
    "## Evaluate the Model\n",
    "Once you are completely satisfied with your model, evaluate the performance of the model on the test set.\n",
    "\n",
    "Be sure to only do this once!\n",
    "\n",
    "If you were to measure the performance of your trained model on the test set, then improve your model, and then measure the performance of your model on the test set again, that would invalidate your test results. You wouldn't get a true measure of how well your model would perform against real data.\n",
    "\n",
    "You do not need to modify this section."
   ]
  },
  {
   "cell_type": "code",
   "execution_count": 12,
   "metadata": {
    "scrolled": false
   },
   "outputs": [
    {
     "name": "stdout",
     "output_type": "stream",
     "text": [
      "(32, 32, 3)\n",
      "29\n"
     ]
    },
    {
     "data": {
      "image/png": "[encoded data removed]",
      "text/plain": [
       "<matplotlib.figure.Figure at 0x7f8f87c47780>"
      ]
     },
     "metadata": {},
     "output_type": "display_data"
    }
   ],
   "source": [
    "### Load the images and plot them here.\n",
    "### Feel free to use as many code cells as needed.\n",
    "# Code from Atlassian\n",
    "import matplotlib.pyplot as plt\n",
    "import matplotlib.image as mpimg\n",
    "import numpy as np\n",
    "import tensorflow as tf\n",
    "from scipy.misc import imresize\n",
    "\n",
    "image1 = mpimg.imread('images/stopsign.png')\n",
    "image2=mpimg.imread('images/bicyclecrossing.png')\n",
    "image3=mpimg.imread('images/rightturnonly.png')\n",
    "image4=mpimg.imread('images/yieldsign.png')\n",
    "image5=mpimg.imread('images/speedlimit30.png')\n",
    "\n",
    "image1= imresize(image1,(32, 32,3))\n",
    "image2= imresize(image2,(32, 32,3))\n",
    "image3= imresize(image3,(32, 32,3))\n",
    "image4= imresize(image4, (32, 32,3))\n",
    "image5= imresize(image5, (32, 32,3))\n",
    "plt.imshow(image1)\n",
    "\n",
    "\n",
    "X_test_myimages = np.ndarray(shape=(5,32,32,3))\n",
    "y_test_myimages = np.ndarray(shape=(5,),dtype=np.int32)\n",
    "\n",
    "X_test_myimages[0]=image1\n",
    "y_test_myimages[0]=14\n",
    "X_test_myimages[1]=image2\n",
    "y_test_myimages[1]=29\n",
    "X_test_myimages[2]=image3\n",
    "y_test_myimages[2]=38\n",
    "X_test_myimages[3]=image4\n",
    "y_test_myimages[3]=13\n",
    "X_test_myimages[4]=image5\n",
    "y_test_myimages[4]=1\n",
    "\n",
    "print (X_test_myimages[0].shape)\n",
    "\n",
    "print (y_test_myimages[1])"
   ]
  },
  {
   "cell_type": "code",
   "execution_count": 13,
   "metadata": {},
   "outputs": [
    {
     "name": "stdout",
     "output_type": "stream",
     "text": [
      "(5, 32, 32, 3)\n",
      "5\n"
     ]
    }
   ],
   "source": [
    "def pre_process_image_myimages(image):\n",
    "    \n",
    "    #image = cv2.cvtColor(image, cv2.COLOR_BGR2GRAY)\n",
    "    \n",
    "    return (image-128)/128.\n",
    "\n",
    "#test_features_myimages = (pre_process_image_myimages(X_test_myimages[i]) for i in range(len(X_test_myimages)))\n",
    "test_features_myimages = np.array([pre_process_image_myimages(X_test_myimages[i]) for i in range(len(X_test_myimages))],dtype = np.float32)\n",
    "print (test_features_myimages.shape)\n",
    "print (len(test_features_myimages))"
   ]
  },
  {
   "cell_type": "code",
   "execution_count": 14,
   "metadata": {},
   "outputs": [
    {
     "name": "stdout",
     "output_type": "stream",
     "text": [
      "Labels One-Hot Encoded\n"
     ]
    }
   ],
   "source": [
    "from sklearn.preprocessing import LabelBinarizer\n",
    "# Turn labels into numbers and apply One-Hot Encoding\n",
    "encoder = LabelBinarizer()\n",
    "#encoder.fit(y_train)\n",
    "y_test_myimages = y_test_myimages.astype(np.int32)\n",
    "\n",
    "encoder.fit(y_test_myimages)\n",
    "#train_labels = encoder.transform(y_train)\n",
    "\n",
    "test_labels_myimages = encoder.transform(y_test_myimages)\n",
    "\n",
    "\n",
    "\n",
    "# Change to float32, so that it can be multiplied against the features in TensorFlow which are float32\n",
    "#train_labels = train_labels.astype(np.float32)\n",
    "#test_labels_myimages = test_labels_myimages.astype(np.float32)\n",
    "#test_labels_myimages = test_labels_myimages.astype(np.int32)\n",
    "is_labels_encod = True\n",
    "\n",
    "print ('Labels One-Hot Encoded')\n",
    "\n",
    "#print (train_labels.shape)"
   ]
  },
  {
   "cell_type": "code",
   "execution_count": 15,
   "metadata": {
    "collapsed": true
   },
   "outputs": [],
   "source": [
    "def plot_image_myimage(image):\n",
    "    #plt.imshow(image.reshape(img_shape),interpolation='nearest',cmap='binary')\n",
    "\n",
    "    plt.show(image)"
   ]
  },
  {
   "cell_type": "code",
   "execution_count": 16,
   "metadata": {
    "collapsed": true
   },
   "outputs": [],
   "source": [
    "y_true_myimages = tf.placeholder(tf.float32, shape=[None, 5], name='y_true')"
   ]
  },
  {
   "cell_type": "code",
   "execution_count": 17,
   "metadata": {
    "collapsed": true
   },
   "outputs": [],
   "source": [
    "def plot_images_myimages(images, cls_true_myimages, cls_pred=None):\n",
    "   \n",
    "    \n",
    "    # Create figure with 5x1 instead of 3x3 sub-plots as was the original\n",
    "    fig, axes = plt.subplots(5,1)\n",
    "    fig.subplots_adjust(hspace=0.7, wspace=0.3)\n",
    "    \n",
    "    for i, ax in enumerate(axes.flat):\n",
    "        # Plot image\n",
    "        \n",
    "        ax.imshow(images[i])\n",
    "        #ax.imshow(images[i].reshape(img_shape),cmap='binary')\n",
    "        \n",
    "        # Show true and predicted classes\n",
    "        if cls_pred is None:\n",
    "            xlabel = \"True: {0}\".format(cls_true_myimages[i])\n",
    "        else:\n",
    "            xlabel = \"True: {0}, Pred: {1}\".format(cls_true_myimages[i], cls_pred[i])\n",
    "        \n",
    "        # Show the classes as the label on the x-axis\n",
    "        ax.set_xlabel(xlabel)\n",
    "        \n",
    "        #Remove ticks from the plot\n",
    "        ax.set_xticks([])\n",
    "        ax.set_yticks([])\n",
    "        \n",
    "    plt.show()\n"
   ]
  },
  {
   "cell_type": "code",
   "execution_count": 18,
   "metadata": {},
   "outputs": [
    {
     "data": {
      "image/png": "[encoded data removed]",
      "text/plain": [
       "<matplotlib.figure.Figure at 0x7f8f8f4f4eb8>"
      ]
     },
     "metadata": {},
     "output_type": "display_data"
    }
   ],
   "source": [
    "plot_images_myimages(X_test_myimages,y_true_myimages)\n",
    "#plt.imshow(image1)"
   ]
  },
  {
   "cell_type": "code",
   "execution_count": 19,
   "metadata": {
    "scrolled": true
   },
   "outputs": [
    {
     "data": {
      "text/html": [
       "<style>.container { width:100% !important; }</style>"
      ],
      "text/plain": [
       "<IPython.core.display.HTML object>"
      ]
     },
     "metadata": {},
     "output_type": "display_data"
    },
    {
     "data": {
      "image/png": "[encoded data removed]",
      "text/plain": [
       "<matplotlib.figure.Figure at 0x7f8fb452c9b0>"
      ]
     },
     "metadata": {},
     "output_type": "display_data"
    }
   ],
   "source": [
    "\n",
    "from IPython.core.display import display, HTML\n",
    "display(HTML(\"<style>.container { width:100% !important; }</style>\"))\n",
    "myimages = test_features_myimages[:5]\n",
    "test_cls_myimages = np.argmax(test_labels_myimages, axis=1)\n",
    "cls_true_myimages = test_cls_myimages[:5]\n",
    "\n",
    "plot_images_myimages(images = myimages, cls_true_myimages = y_test_myimages)\n",
    "#plot_images_myimages(images = myimages, cls_true_myimages = cls_true_myimages)"
   ]
  },
  {
   "cell_type": "code",
   "execution_count": 20,
   "metadata": {
    "scrolled": true
   },
   "outputs": [
    {
     "name": "stdout",
     "output_type": "stream",
     "text": [
      "INFO:tensorflow:Restoring parameters from ./lenet\n",
      "Predict labels [ 5  7  5 13 10]\n"
     ]
    },
    {
     "data": {
      "image/png": "[encoded data removed]",
      "text/plain": [
       "<matplotlib.figure.Figure at 0x7f8fb5d06908>"
      ]
     },
     "metadata": {},
     "output_type": "display_data"
    }
   ],
   "source": [
    "with tf.Session() as sess:\n",
    "    \n",
    "    new_saver = tf.train.import_meta_graph('lenet.meta')\n",
    "    new_saver.restore(sess, tf.train.latest_checkpoint('.'))\n",
    "    predicted_logits = sess.run(logits, feed_dict={x:myimages, keep_prob: 1.})\n",
    "    predicted_labels = np.argmax(predicted_logits, axis=1)\n",
    "    print(\"Predict labels\", predicted_labels)\n",
    "    plot_images_myimages(images = myimages, cls_true_myimages = predicted_labels)"
   ]
  },
  {
   "cell_type": "code",
   "execution_count": 21,
   "metadata": {
    "collapsed": true
   },
   "outputs": [],
   "source": [
    "labels = ['Speed limit (20km/h)', 'Speed limit (30km/h)', 'Speed limit (50km/h)', 'Speed limit (60km/h)', \n",
    "          'Speed limit (70km/h)', 'Speed limit (80km/h)', 'End of speed limit (80km/h)', 'Speed limit (100km/h)', \n",
    "          'Speed limit (120km/h)', 'No passing', 'No passing for vechiles over 3.5 metric tons', \n",
    "          'Right-of-way at the next intersection', 'Priority road', 'Yield', 'Stop', 'No vechiles', \n",
    "          'Vechiles over 3.5 metric tons prohibited', 'No entry', 'General caution', 'Dangerous curve to the left', \n",
    "          'Dangerous curve to the right', 'Double curve', 'Bumpy road', 'Slippery road', 'Road narrows on the right', \n",
    "          'Road work', 'Traffic signals', 'Pedestrians', 'Children crossing', 'Bicycles crossing', \n",
    "          'Beware of ice/snow', 'Wild animals crossing', 'End of all speed and passing limits', 'Turn right ahead', \n",
    "          'Turn left ahead', 'Ahead only', 'Go straight or right', 'Go straight or left', 'Keep right', 'Keep left', \n",
    "          'Roundabout mandatory', 'End of no passing', 'End of no passing by vechiles over 3.5 metric tons']"
   ]
  },
  {
   "cell_type": "code",
   "execution_count": 22,
   "metadata": {},
   "outputs": [
    {
     "name": "stdout",
     "output_type": "stream",
     "text": [
      "INFO:tensorflow:Restoring parameters from ./lenet\n",
      "Test Accuracy = 0.200\n",
      "TopKV2(values=array([[ 0.2107262 ,  0.16660838,  0.06212679,  0.05529388,  0.04665593],\n",
      "       [ 0.15078115,  0.13792174,  0.11622245,  0.11594424,  0.03762121],\n",
      "       [ 0.11001211,  0.05622704,  0.05465995,  0.05464251,  0.05327349],\n",
      "       [ 0.79620349,  0.07283805,  0.0270336 ,  0.01762872,  0.01292351],\n",
      "       [ 0.10226498,  0.06940197,  0.04712651,  0.03930139,  0.03870807]], dtype=float32), indices=array([[ 5,  3,  8, 25,  2],\n",
      "       [ 7,  5,  3,  8,  2],\n",
      "       [ 5,  8, 10, 15,  3],\n",
      "       [13,  8, 15, 12,  3],\n",
      "       [10,  5, 26, 11,  8]], dtype=int32))\n"
     ]
    }
   ],
   "source": [
    "predictSoftmax = tf.nn.softmax(logits)\n",
    "\n",
    "with tf.Session() as sess:\n",
    "    new_saver = tf.train.import_meta_graph('lenet.meta')\n",
    "    new_saver.restore(sess, tf.train.latest_checkpoint('.'))\n",
    "    test_accuracy = evaluate(myimages, y_test_myimages)\n",
    "    \n",
    "    print(\"Test Accuracy = {:.3f}\".format(test_accuracy))\n",
    "    softmaxProb = sess.run(predictSoftmax, feed_dict={x: myimages, keep_prob: 1.})\n",
    "    print (sess.run(tf.nn.top_k(softmaxProb, k=5)))\n",
    "    \n",
    "    #print (tf.contrib.util.make_ndarray(tensor))\n",
    "    "
   ]
  },
  {
   "cell_type": "code",
   "execution_count": 23,
   "metadata": {},
   "outputs": [
    {
     "data": {
      "text/plain": [
       "\"\\nWhat the predictions mean is that it's not certain of any of them. But the one that it was more than 50% certain of it did get that\\none right. It was a bit difficult to classify these images becuase I misunderstood originally and just chose random traffic images\\nthat were different. But they were too hard to classify since I didnt' do enough things such as jittering the original images, etc.\\n\\nAlso my images were pngs isntead of jpgs and I didn't crop the original images from a backgroun, I found them already that way \\non the internet. Also originally I just did the validation accuracy not the training accuracy so I couldn't see if I was overffiting \\nor not. So I'm going to add in the training accuracy tomorrow and try to get better images.\\n\""
      ]
     },
     "execution_count": 23,
     "metadata": {},
     "output_type": "execute_result"
    }
   ],
   "source": [
    "'''\n",
    "What the predictions mean is that it's not certain of any of them. But the one that it was more than 50% certain of it did get that\n",
    "one right. It was a bit difficult to classify these images becuase I misunderstood originally and just chose random traffic images\n",
    "that were different. But they were too hard to classify since I didnt' do enough things such as jittering the original images, etc.\n",
    "\n",
    "Also my images were pngs isntead of jpgs and I didn't crop the original images from a backgroun, I found them already that way \n",
    "on the internet. Also originally I just did the validation accuracy not the training accuracy so I couldn't see if I was overffiting \n",
    "or not. So I'm going to add in the training accuracy tomorrow and try to get better images.\n",
    "'''"
   ]
  }
 ],
 "metadata": {
  "anaconda-cloud": {},
  "kernelspec": {
   "display_name": "Python 3",
   "language": "python",
   "name": "python3"
  },
  "language_info": {
   "codemirror_mode": {
    "name": "ipython",
    "version": 3
   },
   "file_extension": ".py",
   "mimetype": "text/x-python",
   "name": "python",
   "nbconvert_exporter": "python",
   "pygments_lexer": "ipython3",
   "version": "3.5.3"
  },
  "widgets": {
   "state": {},
   "version": "1.1.2"
  }
 },
 "nbformat": 4,
 "nbformat_minor": 1
}
